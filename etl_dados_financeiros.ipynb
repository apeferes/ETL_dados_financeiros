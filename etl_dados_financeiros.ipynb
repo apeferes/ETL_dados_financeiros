{
 "cells": [
  {
   "cell_type": "code",
   "execution_count": null,
   "metadata": {},
   "outputs": [],
   "source": [
    "pip install pandas yfinance\n"
   ]
  },
  {
   "cell_type": "code",
   "execution_count": null,
   "metadata": {},
   "outputs": [],
   "source": [
    "import yfinance as yf\n",
    "\n",
    "# Defina os símbolos de ações que deseja extrair\n",
    "symbols = ['AAPL', 'MSFT', 'GOOGL']\n",
    "\n",
    "# Extraia dados históricos\n",
    "for symbol in symbols:\n",
    "    data = yf.download(symbol, start='2020-01-01', end='2023-01-01')\n",
    "    data.to_csv(f'{symbol}_historical_data.csv')\n"
   ]
  },
  {
   "cell_type": "code",
   "execution_count": null,
   "metadata": {},
   "outputs": [],
   "source": [
    "import pandas as pd\n",
    "\n",
    "# Carregue os dados brutos e faça a transformação\n",
    "symbols = ['AAPL', 'MSFT', 'GOOGL']\n",
    "dfs = []\n",
    "\n",
    "for symbol in symbols:\n",
    "    data = pd.read_csv(f'{symbol}_historical_data.csv', index_col='Date', parse_dates=True)\n",
    "    data = data[['Adj Close']]  # Mantenha apenas a coluna 'Adj Close'\n",
    "    data.columns = [symbol]  # Renomeie a coluna para o nome do símbolo\n",
    "    dfs.append(data)\n",
    "\n",
    "# Combine os dados em um único DataFrame\n",
    "combined_data = pd.concat(dfs, axis=1)\n",
    "\n",
    "# Salve os dados transformados em um arquivo CSV\n",
    "combined_data.to_csv('financial_data.csv')\n"
   ]
  },
  {
   "cell_type": "code",
   "execution_count": null,
   "metadata": {},
   "outputs": [],
   "source": [
    "import pandas as pd\n",
    "\n",
    "# Carregue os dados transformados\n",
    "financial_data = pd.read_csv('financial_data.csv', index_col='Date', parse_dates=True)\n",
    "\n",
    "# Resample os dados para frequência mensal\n",
    "monthly_data = financial_data.resample('M').last()  # Use 'last' para pegar o valor no final de cada mês\n",
    "\n",
    "# Calcule o retorno percentual mensal para cada ação\n",
    "monthly_returns = monthly_data.pct_change()\n",
    "\n",
    "# Remova as linhas com valores ausentes (NaN)\n",
    "monthly_returns = monthly_returns.dropna()\n",
    "\n",
    "# Visualize os primeiros registros de retorno percentual mensal\n",
    "print(monthly_returns.head())\n"
   ]
  },
  {
   "cell_type": "code",
   "execution_count": null,
   "metadata": {},
   "outputs": [],
   "source": [
    "pip install matplotlib\n"
   ]
  },
  {
   "cell_type": "code",
   "execution_count": null,
   "metadata": {},
   "outputs": [],
   "source": [
    "import pandas as pd\n",
    "import matplotlib.pyplot as plt\n",
    "\n",
    "# Carregue os dados transformados\n",
    "financial_data = pd.read_csv('financial_data.csv', index_col='Date', parse_dates=True)\n",
    "\n",
    "# Calcule o retorno percentual para cada ação\n",
    "returns = financial_data.pct_change()\n",
    "\n",
    "# Resample os dados para frequência mensal\n",
    "monthly_returns = returns.resample('M').mean()\n",
    "\n",
    "# Lista de símbolos\n",
    "symbols = ['AAPL', 'MSFT', 'GOOGL']  # Adicione outros símbolos, se necessário\n",
    "\n",
    "# Crie um gráfico de retorno percentual mensal para cada símbolo\n",
    "for symbol in symbols:\n",
    "    plt.figure(figsize=(12, 6))\n",
    "    monthly_returns[symbol].plot(kind='line', title=f'{symbol} Monthly Returns')\n",
    "    plt.xlabel('Date')\n",
    "    plt.ylabel('Return')\n",
    "    plt.grid(True)\n",
    "    # plt.savefig(f'{symbol}_monthly_returns.png')\n",
    "    plt.show()  # Adicione esta linha para exibir o gráfico na tela\n",
    "    plt.close()\n"
   ]
  }
 ],
 "metadata": {
  "kernelspec": {
   "display_name": "Python 3",
   "language": "python",
   "name": "python3"
  },
  "language_info": {
   "codemirror_mode": {
    "name": "ipython",
    "version": 3
   },
   "file_extension": ".py",
   "mimetype": "text/x-python",
   "name": "python",
   "nbconvert_exporter": "python",
   "pygments_lexer": "ipython3",
   "version": "3.9.6"
  },
  "orig_nbformat": 4
 },
 "nbformat": 4,
 "nbformat_minor": 2
}
